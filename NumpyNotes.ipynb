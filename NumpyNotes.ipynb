{
  "nbformat": 4,
  "nbformat_minor": 0,
  "metadata": {
    "colab": {
      "provenance": [],
      "collapsed_sections": [
        "euQY4n5hT8WS",
        "6etxFxOWUzyt",
        "1tajeIFHWBWv",
        "BjZNkZ5CWv9K"
      ],
      "authorship_tag": "ABX9TyOM6OWOborUzWQEoAAhat1m",
      "include_colab_link": true
    },
    "kernelspec": {
      "name": "python3",
      "display_name": "Python 3"
    },
    "language_info": {
      "name": "python"
    }
  },
  "cells": [
    {
      "cell_type": "markdown",
      "metadata": {
        "id": "view-in-github",
        "colab_type": "text"
      },
      "source": [
        "<a href=\"https://colab.research.google.com/github/AL-DN/Welcome_to_Numpy/blob/main/NumpyNotes.ipynb\" target=\"_parent\"><img src=\"https://colab.research.google.com/assets/colab-badge.svg\" alt=\"Open In Colab\"/></a>"
      ]
    },
    {
      "cell_type": "markdown",
      "source": [
        "\n",
        "**Reference:** https://www.youtube.com/watch?v=QUT1VHiLmmI\n",
        "\n",
        "Load Numpy (pip i numpy)"
      ],
      "metadata": {
        "id": "X4GnKnHOTYD8"
      }
    },
    {
      "cell_type": "code",
      "source": [
        "import numpy as np"
      ],
      "metadata": {
        "id": "DrO3mKm1TrMY"
      },
      "execution_count": 8,
      "outputs": []
    },
    {
      "cell_type": "markdown",
      "source": [
        "# **Create** `numpy array` by **passing in a list**"
      ],
      "metadata": {
        "id": "euQY4n5hT8WS"
      }
    },
    {
      "cell_type": "code",
      "source": [
        "# 1D\n",
        "a = np.array([1,2,3])\n",
        "print(a)"
      ],
      "metadata": {
        "colab": {
          "base_uri": "https://localhost:8080/"
        },
        "id": "iqfmnEd_T06Y",
        "outputId": "dba5ee46-b709-49dd-a2fe-76275b0a30ec"
      },
      "execution_count": 9,
      "outputs": [
        {
          "output_type": "stream",
          "name": "stdout",
          "text": [
            "[1 2 3]\n"
          ]
        }
      ]
    },
    {
      "cell_type": "code",
      "source": [
        "# 2D\n",
        "b = np.array([[9.9,8.8,7.7],[5.5,6.6,7.7]])\n",
        "print(b)"
      ],
      "metadata": {
        "colab": {
          "base_uri": "https://localhost:8080/"
        },
        "id": "_7yXzsplUSav",
        "outputId": "f3a34681-f6af-4743-d3ac-f2f0b4694154"
      },
      "execution_count": 10,
      "outputs": [
        {
          "output_type": "stream",
          "name": "stdout",
          "text": [
            "[[9.9 8.8 7.7]\n",
            " [5.5 6.6 7.7]]\n"
          ]
        }
      ]
    },
    {
      "cell_type": "markdown",
      "source": [
        "# You can view the dimension of NumpyArr"
      ],
      "metadata": {
        "id": "6etxFxOWUzyt"
      }
    },
    {
      "cell_type": "code",
      "source": [
        "print(\"The NumpyArr A has {} dimensions\".format(a.ndim))\n",
        "print(\"The NumpyArr B has {} dimensions\".format(b.ndim))"
      ],
      "metadata": {
        "colab": {
          "base_uri": "https://localhost:8080/"
        },
        "id": "3_tN_-XAU5hf",
        "outputId": "eb0a17d1-7eac-41ec-ab16-91230dc520b3"
      },
      "execution_count": 36,
      "outputs": [
        {
          "output_type": "stream",
          "name": "stdout",
          "text": [
            "The NumpyArr A has 1 dimensions\n",
            "The NumpyArr B has 2 dimensions\n"
          ]
        }
      ]
    },
    {
      "cell_type": "markdown",
      "source": [
        "# You can find the size of the array (rows,colums)"
      ],
      "metadata": {
        "id": "1tajeIFHWBWv"
      }
    },
    {
      "cell_type": "code",
      "source": [
        "# when it is 1D it will return # of elements\n",
        "a.shape"
      ],
      "metadata": {
        "colab": {
          "base_uri": "https://localhost:8080/"
        },
        "id": "9Gkj_NGBWN9-",
        "outputId": "a08b9b16-dbfc-47d2-c661-f58649b7d506"
      },
      "execution_count": 12,
      "outputs": [
        {
          "output_type": "execute_result",
          "data": {
            "text/plain": [
              "(3,)"
            ]
          },
          "metadata": {},
          "execution_count": 12
        }
      ]
    },
    {
      "cell_type": "code",
      "source": [
        "b.shape"
      ],
      "metadata": {
        "colab": {
          "base_uri": "https://localhost:8080/"
        },
        "id": "CWxsn-tmV-Oq",
        "outputId": "6ff83fe6-64e3-416c-d850-63e4e08241e5"
      },
      "execution_count": 13,
      "outputs": [
        {
          "output_type": "execute_result",
          "data": {
            "text/plain": [
              "(2, 3)"
            ]
          },
          "metadata": {},
          "execution_count": 13
        }
      ]
    },
    {
      "cell_type": "markdown",
      "source": [
        "# You can view Data Type"
      ],
      "metadata": {
        "id": "BjZNkZ5CWv9K"
      }
    },
    {
      "cell_type": "code",
      "source": [
        "a.dtype"
      ],
      "metadata": {
        "colab": {
          "base_uri": "https://localhost:8080/"
        },
        "id": "nuVmMcFfW9tO",
        "outputId": "f2cb41e1-459e-41ea-accf-110b9c1101da"
      },
      "execution_count": 14,
      "outputs": [
        {
          "output_type": "execute_result",
          "data": {
            "text/plain": [
              "dtype('int64')"
            ]
          },
          "metadata": {},
          "execution_count": 14
        }
      ]
    },
    {
      "cell_type": "code",
      "source": [
        "b.dtype"
      ],
      "metadata": {
        "colab": {
          "base_uri": "https://localhost:8080/"
        },
        "id": "ViJ-SItPWoJ0",
        "outputId": "98e60482-2950-4626-e03c-a0927bbaf026"
      },
      "execution_count": 15,
      "outputs": [
        {
          "output_type": "execute_result",
          "data": {
            "text/plain": [
              "dtype('float64')"
            ]
          },
          "metadata": {},
          "execution_count": 15
        }
      ]
    },
    {
      "cell_type": "markdown",
      "source": [
        "# We can also specify this when creating NumpyArr\n",
        "\n",
        "\n",
        "*   This is useful to save memory and decrease runtime if data size is known to be under a certain value\n",
        "\n",
        "\n",
        "\n",
        "\n"
      ],
      "metadata": {
        "id": "RosstJBWXGtD"
      }
    },
    {
      "cell_type": "code",
      "source": [
        "c = np.array([4,5,6],dtype='int16')"
      ],
      "metadata": {
        "id": "aXiZr7IIXNSe"
      },
      "execution_count": 16,
      "outputs": []
    },
    {
      "cell_type": "markdown",
      "source": [
        "# We can view size of Array in multiple capactities\n",
        "\n"
      ],
      "metadata": {
        "id": "FTFWtJVIYA9Q"
      }
    },
    {
      "cell_type": "markdown",
      "source": [
        "**Returns size of each item in bytes**"
      ],
      "metadata": {
        "id": "o3SZtO6sYoZQ"
      }
    },
    {
      "cell_type": "code",
      "source": [
        "a.itemsize"
      ],
      "metadata": {
        "colab": {
          "base_uri": "https://localhost:8080/"
        },
        "id": "KaQx4mxmYFHj",
        "outputId": "acab24d5-50df-4c98-9c14-633f4c8930ff"
      },
      "execution_count": 17,
      "outputs": [
        {
          "output_type": "execute_result",
          "data": {
            "text/plain": [
              "8"
            ]
          },
          "metadata": {},
          "execution_count": 17
        }
      ]
    },
    {
      "cell_type": "code",
      "source": [
        "b.itemsize"
      ],
      "metadata": {
        "colab": {
          "base_uri": "https://localhost:8080/"
        },
        "id": "RgOJ57DRYKLI",
        "outputId": "a6e91900-e3f8-4f53-d379-cf3ce882e69a"
      },
      "execution_count": 18,
      "outputs": [
        {
          "output_type": "execute_result",
          "data": {
            "text/plain": [
              "8"
            ]
          },
          "metadata": {},
          "execution_count": 18
        }
      ]
    },
    {
      "cell_type": "code",
      "source": [
        "c.itemsize"
      ],
      "metadata": {
        "colab": {
          "base_uri": "https://localhost:8080/"
        },
        "id": "vxQJDxyDYOyD",
        "outputId": "a6447f94-9ae2-42ea-e6b6-78d25d22d8c9"
      },
      "execution_count": 19,
      "outputs": [
        {
          "output_type": "execute_result",
          "data": {
            "text/plain": [
              "2"
            ]
          },
          "metadata": {},
          "execution_count": 19
        }
      ]
    },
    {
      "cell_type": "markdown",
      "source": [
        "**Returns total number of items in Array**"
      ],
      "metadata": {
        "id": "oBVYlGt2ZAuq"
      }
    },
    {
      "cell_type": "code",
      "source": [
        "a.size"
      ],
      "metadata": {
        "colab": {
          "base_uri": "https://localhost:8080/"
        },
        "id": "asFNYTs9ZHWp",
        "outputId": "0bce5182-e02f-4f5a-daa9-8e72be1534bb"
      },
      "execution_count": 20,
      "outputs": [
        {
          "output_type": "execute_result",
          "data": {
            "text/plain": [
              "3"
            ]
          },
          "metadata": {},
          "execution_count": 20
        }
      ]
    },
    {
      "cell_type": "code",
      "source": [
        "b.size"
      ],
      "metadata": {
        "colab": {
          "base_uri": "https://localhost:8080/"
        },
        "id": "ciNCuHoWZLM7",
        "outputId": "8955755f-35e5-4648-855f-85cb4538d7e2"
      },
      "execution_count": 21,
      "outputs": [
        {
          "output_type": "execute_result",
          "data": {
            "text/plain": [
              "6"
            ]
          },
          "metadata": {},
          "execution_count": 21
        }
      ]
    },
    {
      "cell_type": "code",
      "source": [
        "c.size"
      ],
      "metadata": {
        "colab": {
          "base_uri": "https://localhost:8080/"
        },
        "id": "3gwBT7A_ZMyl",
        "outputId": "e1f14ef3-6ac3-4a40-f70b-65d9e06bfb3f"
      },
      "execution_count": 22,
      "outputs": [
        {
          "output_type": "execute_result",
          "data": {
            "text/plain": [
              "3"
            ]
          },
          "metadata": {},
          "execution_count": 22
        }
      ]
    },
    {
      "cell_type": "markdown",
      "source": [
        "Size of Entire Array in Bytes\n",
        "(itemsize * size)"
      ],
      "metadata": {
        "id": "6vrs0TZhZRsr"
      }
    },
    {
      "cell_type": "code",
      "source": [
        "a.nbytes"
      ],
      "metadata": {
        "colab": {
          "base_uri": "https://localhost:8080/"
        },
        "id": "cPb7HNv0ZTqV",
        "outputId": "c90bc9f2-8a58-4cb5-92cb-703431697566"
      },
      "execution_count": 23,
      "outputs": [
        {
          "output_type": "execute_result",
          "data": {
            "text/plain": [
              "24"
            ]
          },
          "metadata": {},
          "execution_count": 23
        }
      ]
    },
    {
      "cell_type": "markdown",
      "source": [
        "# Accessing/Changing specific elements, rows, colums, etc"
      ],
      "metadata": {
        "id": "l_vPTHC_Zypr"
      }
    },
    {
      "cell_type": "code",
      "source": [
        "test = np.array([[1,2,3,4,5,6,7],\n",
        "                 [8,9,10,11,12,13,14]])"
      ],
      "metadata": {
        "id": "ia9LWxHOZ5bS"
      },
      "execution_count": 37,
      "outputs": []
    },
    {
      "cell_type": "markdown",
      "source": [
        "**Get specific element**\n",
        "by using numpy_array[row,column]\n",
        "* negative indexing works too"
      ],
      "metadata": {
        "id": "ZlNppRdcawJD"
      }
    },
    {
      "cell_type": "code",
      "source": [
        "test[1,5]"
      ],
      "metadata": {
        "colab": {
          "base_uri": "https://localhost:8080/"
        },
        "id": "r8r_7iVPau-M",
        "outputId": "8e788702-a5ae-472f-86a0-b4632b11a2fb"
      },
      "execution_count": 25,
      "outputs": [
        {
          "output_type": "execute_result",
          "data": {
            "text/plain": [
              "13"
            ]
          },
          "metadata": {},
          "execution_count": 25
        }
      ]
    },
    {
      "cell_type": "markdown",
      "source": [
        "**Get a specific row/column**\n",
        "* slice tool grabs all row or column values"
      ],
      "metadata": {
        "id": "N-h7MxmWbNbF"
      }
    },
    {
      "cell_type": "code",
      "source": [
        "test[0,:]"
      ],
      "metadata": {
        "colab": {
          "base_uri": "https://localhost:8080/"
        },
        "id": "jtTvjinSbPaQ",
        "outputId": "77dc386d-e11a-435e-cf28-a56afaf7f521"
      },
      "execution_count": 26,
      "outputs": [
        {
          "output_type": "execute_result",
          "data": {
            "text/plain": [
              "array([1, 2, 3, 4, 5, 6, 7])"
            ]
          },
          "metadata": {},
          "execution_count": 26
        }
      ]
    },
    {
      "cell_type": "code",
      "source": [
        "test[:,2]"
      ],
      "metadata": {
        "colab": {
          "base_uri": "https://localhost:8080/"
        },
        "id": "m_4BjoefbqH_",
        "outputId": "1813d0a7-387c-4a8f-f1bc-5d15e527fc9d"
      },
      "execution_count": 27,
      "outputs": [
        {
          "output_type": "execute_result",
          "data": {
            "text/plain": [
              "array([ 3, 10])"
            ]
          },
          "metadata": {},
          "execution_count": 27
        }
      ]
    },
    {
      "cell_type": "markdown",
      "source": [
        "**Getting more fancy**\n",
        "[start:end:stepsize]"
      ],
      "metadata": {
        "id": "QuszjTXdcOtS"
      }
    },
    {
      "cell_type": "code",
      "source": [
        "test[0, 0:test.size:2]"
      ],
      "metadata": {
        "colab": {
          "base_uri": "https://localhost:8080/"
        },
        "id": "Yp4O9bLrcRzr",
        "outputId": "badc3d10-65fb-4117-a0a0-e76d6d1659ee"
      },
      "execution_count": 28,
      "outputs": [
        {
          "output_type": "execute_result",
          "data": {
            "text/plain": [
              "array([1, 3, 5, 7])"
            ]
          },
          "metadata": {},
          "execution_count": 28
        }
      ]
    },
    {
      "cell_type": "markdown",
      "source": [
        "You can **change** values by simply accessing their 'coordinate'"
      ],
      "metadata": {
        "id": "AUswPS_Oc-to"
      }
    },
    {
      "cell_type": "code",
      "source": [
        "test[0,2] = 5\n",
        "# Take another look at even indexs on row 0\n",
        "test[0, :]"
      ],
      "metadata": {
        "colab": {
          "base_uri": "https://localhost:8080/"
        },
        "id": "2SS3YrTVdHnw",
        "outputId": "36c189ba-d2da-4ff8-d981-fd6aae9c0d9b"
      },
      "execution_count": 29,
      "outputs": [
        {
          "output_type": "execute_result",
          "data": {
            "text/plain": [
              "array([1, 2, 5, 4, 5, 6, 7])"
            ]
          },
          "metadata": {},
          "execution_count": 29
        }
      ]
    },
    {
      "cell_type": "markdown",
      "source": [
        "**You can also use slice to replace all values on r/c**"
      ],
      "metadata": {
        "id": "1AHLma2Ud02d"
      }
    },
    {
      "cell_type": "code",
      "source": [
        "test[0,:] = 5\n",
        "# Take another look at even indexs on row 0\n",
        "test[0, 0:test.size:2]"
      ],
      "metadata": {
        "colab": {
          "base_uri": "https://localhost:8080/"
        },
        "id": "54Z4fECedvVg",
        "outputId": "d20863a2-c278-4678-83b4-163c25e3ac8d"
      },
      "execution_count": 30,
      "outputs": [
        {
          "output_type": "execute_result",
          "data": {
            "text/plain": [
              "array([5, 5, 5, 5])"
            ]
          },
          "metadata": {},
          "execution_count": 30
        }
      ]
    },
    {
      "cell_type": "markdown",
      "source": [
        "If you want to replaces a r/c with different numbers![Screenshot 2024-06-03 104202.png](data:image/png;base64,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![problemnparr.png](data:image/png;base64,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))"
      ],
      "metadata": {
        "id": "FO8yjttQZy9r"
      }
    },
    {
      "cell_type": "code",
      "source": [
        "print(test[0,:])\n",
        "test[0,:] = [7,6,5,4,3,2,1]\n",
        "# Take another look at even indexs on row 0\n",
        "test[0, :]"
      ],
      "metadata": {
        "id": "vDZq1BE5eAdh",
        "colab": {
          "base_uri": "https://localhost:8080/"
        },
        "outputId": "cdb8d794-9c31-4602-9a4a-36e48b083660"
      },
      "execution_count": 38,
      "outputs": [
        {
          "output_type": "stream",
          "name": "stdout",
          "text": [
            "[1 2 3 4 5 6 7]\n"
          ]
        },
        {
          "output_type": "execute_result",
          "data": {
            "text/plain": [
              "array([7, 6, 5, 4, 3, 2, 1])"
            ]
          },
          "metadata": {},
          "execution_count": 38
        }
      ]
    },
    {
      "cell_type": "code",
      "source": [
        " arr3d = np.array( [ [[1,2],[3,4]] , [[5,6],[7,8]] ] )\n",
        " print(arr3d)"
      ],
      "metadata": {
        "colab": {
          "base_uri": "https://localhost:8080/"
        },
        "id": "tcE235WgcCNU",
        "outputId": "523e5e68-afbc-4863-e5c3-9236ce76452c"
      },
      "execution_count": 43,
      "outputs": [
        {
          "output_type": "stream",
          "name": "stdout",
          "text": [
            "[[[1 2]\n",
            "  [3 4]]\n",
            "\n",
            " [[5 6]\n",
            "  [7 8]]]\n"
          ]
        }
      ]
    },
    {
      "cell_type": "code",
      "source": [
        "# set,row,col\n",
        "arr3d[0,1,1]"
      ],
      "metadata": {
        "colab": {
          "base_uri": "https://localhost:8080/"
        },
        "id": "sPrNOgKNdhIN",
        "outputId": "b7b94d98-1a1d-4e91-dd39-2bf317d0932c"
      },
      "execution_count": 46,
      "outputs": [
        {
          "output_type": "execute_result",
          "data": {
            "text/plain": [
              "4"
            ]
          },
          "metadata": {},
          "execution_count": 46
        }
      ]
    },
    {
      "cell_type": "markdown",
      "source": [
        "Initalizing Different Types of Arrays"
      ],
      "metadata": {
        "id": "U6vEphp3ejtP"
      }
    },
    {
      "cell_type": "code",
      "source": [
        "np.zeros((2,3))"
      ],
      "metadata": {
        "colab": {
          "base_uri": "https://localhost:8080/"
        },
        "id": "p66RMvkoeRuu",
        "outputId": "b704fa3a-d51f-4de9-aa53-8a46ae9aa116"
      },
      "execution_count": 49,
      "outputs": [
        {
          "output_type": "execute_result",
          "data": {
            "text/plain": [
              "array([[0., 0., 0.],\n",
              "       [0., 0., 0.]])"
            ]
          },
          "metadata": {},
          "execution_count": 49
        }
      ]
    },
    {
      "cell_type": "code",
      "source": [
        "np.ones((4,2,2),dtype='int8')"
      ],
      "metadata": {
        "colab": {
          "base_uri": "https://localhost:8080/"
        },
        "id": "b5G8xbrBe7XL",
        "outputId": "4be60611-f433-4ffa-a052-5aca9135bed7"
      },
      "execution_count": 53,
      "outputs": [
        {
          "output_type": "execute_result",
          "data": {
            "text/plain": [
              "array([[[1, 1],\n",
              "        [1, 1]],\n",
              "\n",
              "       [[1, 1],\n",
              "        [1, 1]],\n",
              "\n",
              "       [[1, 1],\n",
              "        [1, 1]],\n",
              "\n",
              "       [[1, 1],\n",
              "        [1, 1]]], dtype=int8)"
            ]
          },
          "metadata": {},
          "execution_count": 53
        }
      ]
    },
    {
      "cell_type": "code",
      "source": [
        "np.full((2,3), 99)"
      ],
      "metadata": {
        "colab": {
          "base_uri": "https://localhost:8080/"
        },
        "id": "UwTjFvLDfVVI",
        "outputId": "d2336ed8-f65d-4990-ba8a-8278806d6afa"
      },
      "execution_count": 55,
      "outputs": [
        {
          "output_type": "execute_result",
          "data": {
            "text/plain": [
              "array([[99, 99, 99],\n",
              "       [99, 99, 99]])"
            ]
          },
          "metadata": {},
          "execution_count": 55
        }
      ]
    },
    {
      "cell_type": "code",
      "source": [
        "np.full_like(a,4)"
      ],
      "metadata": {
        "colab": {
          "base_uri": "https://localhost:8080/"
        },
        "id": "DqTc28sJgFRl",
        "outputId": "c9052e69-c266-4361-fe48-4612be497ef4"
      },
      "execution_count": 56,
      "outputs": [
        {
          "output_type": "execute_result",
          "data": {
            "text/plain": [
              "array([4, 4, 4])"
            ]
          },
          "metadata": {},
          "execution_count": 56
        }
      ]
    },
    {
      "cell_type": "code",
      "source": [
        "np.random.rand(4,2)"
      ],
      "metadata": {
        "colab": {
          "base_uri": "https://localhost:8080/"
        },
        "id": "cdJc_bEggJWL",
        "outputId": "0b3f61dc-84d3-487c-faab-cd17c32901fa"
      },
      "execution_count": 58,
      "outputs": [
        {
          "output_type": "execute_result",
          "data": {
            "text/plain": [
              "array([[0.34425875, 0.37966489],\n",
              "       [0.27817962, 0.05649874],\n",
              "       [0.72043575, 0.06660474],\n",
              "       [0.97588599, 0.07223521]])"
            ]
          },
          "metadata": {},
          "execution_count": 58
        }
      ]
    },
    {
      "cell_type": "markdown",
      "source": [
        "You can make a random np array with the same shape as an already defined np arr"
      ],
      "metadata": {
        "id": "_27ZH3-YgZ2R"
      }
    },
    {
      "cell_type": "code",
      "source": [
        "# Random decimal numbers\n",
        "np.random.random_sample(a.shape)"
      ],
      "metadata": {
        "colab": {
          "base_uri": "https://localhost:8080/"
        },
        "id": "QpWp6DlLgZil",
        "outputId": "8026c0e9-5f94-4df2-8df9-bd3d6a51cfd0"
      },
      "execution_count": 59,
      "outputs": [
        {
          "output_type": "execute_result",
          "data": {
            "text/plain": [
              "array([0.15417902, 0.8591216 , 0.48865233])"
            ]
          },
          "metadata": {},
          "execution_count": 59
        }
      ]
    },
    {
      "cell_type": "code",
      "source": [
        "# random integer values\n",
        "np.random.randint(4,6, size=(3,3))"
      ],
      "metadata": {
        "colab": {
          "base_uri": "https://localhost:8080/"
        },
        "id": "peJqpfUQgsNZ",
        "outputId": "3da440a9-ef9c-45a2-b0a5-85ffc4c17b79"
      },
      "execution_count": 62,
      "outputs": [
        {
          "output_type": "execute_result",
          "data": {
            "text/plain": [
              "array([[5, 5, 4],\n",
              "       [5, 5, 4],\n",
              "       [5, 5, 4]])"
            ]
          },
          "metadata": {},
          "execution_count": 62
        }
      ]
    },
    {
      "cell_type": "code",
      "source": [
        "np.identity(5)"
      ],
      "metadata": {
        "colab": {
          "base_uri": "https://localhost:8080/"
        },
        "id": "dxws-l4bhzKS",
        "outputId": "7a6d26df-a0b4-4b36-e106-95b1dbacba71"
      },
      "execution_count": 64,
      "outputs": [
        {
          "output_type": "execute_result",
          "data": {
            "text/plain": [
              "array([[1., 0., 0., 0., 0.],\n",
              "       [0., 1., 0., 0., 0.],\n",
              "       [0., 0., 1., 0., 0.],\n",
              "       [0., 0., 0., 1., 0.],\n",
              "       [0., 0., 0., 0., 1.]])"
            ]
          },
          "metadata": {},
          "execution_count": 64
        }
      ]
    },
    {
      "cell_type": "code",
      "source": [
        "arr = np.array([[1,2,3]])\n",
        "r1 = np.repeat(arr,3, axis=0)"
      ],
      "metadata": {
        "id": "s53h_8kIiX-2"
      },
      "execution_count": null,
      "outputs": []
    },
    {
      "cell_type": "markdown",
      "source": [
        "**Problem Question**\n",
        "\n"
      ],
      "metadata": {
        "id": "wM3V8b7sjN6u"
      }
    },
    {
      "cell_type": "code",
      "source": [
        "problem_arr = np.full((5,5),1)\n",
        "problem_arr[1:-1, 1:-1] = 0\n",
        "problem_arr[2,2] = 9\n",
        "print(problem_arr)"
      ],
      "metadata": {
        "colab": {
          "base_uri": "https://localhost:8080/"
        },
        "id": "ADlvtomqjGVY",
        "outputId": "d1fd1931-853e-4220-c593-789203a86192"
      },
      "execution_count": 70,
      "outputs": [
        {
          "output_type": "stream",
          "name": "stdout",
          "text": [
            "[[1 1 1 1 1]\n",
            " [1 0 0 0 1]\n",
            " [1 0 9 0 1]\n",
            " [1 0 0 0 1]\n",
            " [1 1 1 1 1]]\n"
          ]
        }
      ]
    },
    {
      "cell_type": "code",
      "source": [
        "# Another Approach\n",
        "\n",
        "output = np.ones((5,5), dtype='int8')\n",
        "\n",
        "z = np.zeros((3,3), dtype='int8')\n",
        "z[1,1] = 9\n",
        "\n",
        "output[1:-1,1:-1] = z\n",
        "print(output)"
      ],
      "metadata": {
        "colab": {
          "base_uri": "https://localhost:8080/"
        },
        "id": "CazQoFDYkwDi",
        "outputId": "641b9cfc-24c3-4c9c-a2a4-7f62ce4d451e"
      },
      "execution_count": 77,
      "outputs": [
        {
          "output_type": "stream",
          "name": "stdout",
          "text": [
            "[[1 1 1 1 1]\n",
            " [1 0 0 0 1]\n",
            " [1 0 9 0 1]\n",
            " [1 0 0 0 1]\n",
            " [1 1 1 1 1]]\n"
          ]
        }
      ]
    },
    {
      "cell_type": "markdown",
      "source": [
        "# Copying Arrays"
      ],
      "metadata": {
        "id": "MtIXztW1mUV8"
      }
    },
    {
      "cell_type": "code",
      "source": [
        "a = np.array([1,2,3])\n",
        "# we just set the pointer to the same mem address as a\n",
        "b = a\n",
        "b[0]=100\n",
        "print(a)"
      ],
      "metadata": {
        "colab": {
          "base_uri": "https://localhost:8080/"
        },
        "id": "PhC_t6ikmXA6",
        "outputId": "2ddfd705-3128-45d4-a384-a431852c39e3"
      },
      "execution_count": 78,
      "outputs": [
        {
          "output_type": "stream",
          "name": "stdout",
          "text": [
            "[100   2   3]\n"
          ]
        }
      ]
    },
    {
      "cell_type": "markdown",
      "source": [
        "**If you want to initalize its own memory**"
      ],
      "metadata": {
        "id": "ZBVLNyG6mqIW"
      }
    },
    {
      "cell_type": "code",
      "source": [
        "a = np.array([1,2,3])\n",
        "# we just set the pointer to the same mem address as a\n",
        "b = a.copy()\n",
        "b[0]=100\n",
        "print(a)"
      ],
      "metadata": {
        "colab": {
          "base_uri": "https://localhost:8080/"
        },
        "id": "affgZyWYmpmU",
        "outputId": "02498d89-b987-4318-b1ea-7879fc039907"
      },
      "execution_count": 79,
      "outputs": [
        {
          "output_type": "stream",
          "name": "stdout",
          "text": [
            "[1 2 3]\n"
          ]
        }
      ]
    },
    {
      "cell_type": "markdown",
      "source": [
        "# Mathmatics"
      ],
      "metadata": {
        "id": "yYcQ8E-ZnDam"
      }
    },
    {
      "cell_type": "code",
      "source": [
        "math = np.array([1,2,3,4])\n",
        "print(a)"
      ],
      "metadata": {
        "colab": {
          "base_uri": "https://localhost:8080/"
        },
        "id": "l35nGpbUnGJ3",
        "outputId": "2f9fe095-526e-4d0c-f90b-9fcd198297f0"
      },
      "execution_count": 81,
      "outputs": [
        {
          "output_type": "stream",
          "name": "stdout",
          "text": [
            "[1 2 3]\n"
          ]
        }
      ]
    },
    {
      "cell_type": "markdown",
      "source": [
        "Math can be applied to all elements in Array"
      ],
      "metadata": {
        "id": "EG2ffLZ6nkan"
      }
    },
    {
      "cell_type": "code",
      "source": [
        "math + 2"
      ],
      "metadata": {
        "colab": {
          "base_uri": "https://localhost:8080/"
        },
        "id": "9aYp4wT-nULI",
        "outputId": "62c1cf7c-af71-4d6e-9d4a-cca1c9108022"
      },
      "execution_count": 82,
      "outputs": [
        {
          "output_type": "execute_result",
          "data": {
            "text/plain": [
              "array([3, 4, 5, 6])"
            ]
          },
          "metadata": {},
          "execution_count": 82
        }
      ]
    },
    {
      "cell_type": "markdown",
      "source": [
        "Adds elements in each Array"
      ],
      "metadata": {
        "id": "j9myCcO2n0zY"
      }
    },
    {
      "cell_type": "code",
      "source": [
        "math2= np.array([1,0,1,0])\n",
        "math + math2"
      ],
      "metadata": {
        "colab": {
          "base_uri": "https://localhost:8080/"
        },
        "id": "7rntTJd-nXwR",
        "outputId": "ba53ab68-faa9-4cf5-d0da-d524d25dc05c"
      },
      "execution_count": 83,
      "outputs": [
        {
          "output_type": "execute_result",
          "data": {
            "text/plain": [
              "array([2, 2, 4, 4])"
            ]
          },
          "metadata": {},
          "execution_count": 83
        }
      ]
    },
    {
      "cell_type": "code",
      "source": [
        "np.sin(a)"
      ],
      "metadata": {
        "colab": {
          "base_uri": "https://localhost:8080/"
        },
        "id": "q5ebE5Hin99l",
        "outputId": "a9034147-a382-4edd-d0c9-80c19aec9aa2"
      },
      "execution_count": 84,
      "outputs": [
        {
          "output_type": "execute_result",
          "data": {
            "text/plain": [
              "array([0.84147098, 0.90929743, 0.14112001])"
            ]
          },
          "metadata": {},
          "execution_count": 84
        }
      ]
    },
    {
      "cell_type": "markdown",
      "source": [
        "**Linear Algebra**"
      ],
      "metadata": {
        "id": "ED8FpFFXoLVa"
      }
    },
    {
      "cell_type": "code",
      "source": [
        "## Matrix Multiplication\n",
        "mm= np.ones((2,3))\n",
        "print(mm ,\"\\n\")\n",
        "\n",
        "mm2 = np.full((3,2), 2)\n",
        "print(mm2, \"\\n\")\n",
        "\n",
        "np.matmul(mm,mm2)"
      ],
      "metadata": {
        "colab": {
          "base_uri": "https://localhost:8080/"
        },
        "id": "sPqPZJO2oKZA",
        "outputId": "2e12d51a-d24b-40be-a40e-de932972ef6d"
      },
      "execution_count": 91,
      "outputs": [
        {
          "output_type": "stream",
          "name": "stdout",
          "text": [
            "[[1. 1. 1.]\n",
            " [1. 1. 1.]] \n",
            "\n",
            "[[2 2]\n",
            " [2 2]\n",
            " [2 2]] \n",
            "\n"
          ]
        },
        {
          "output_type": "execute_result",
          "data": {
            "text/plain": [
              "array([[6., 6.],\n",
              "       [6., 6.]])"
            ]
          },
          "metadata": {},
          "execution_count": 91
        }
      ]
    }
  ]
}