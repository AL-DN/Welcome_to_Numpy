{
  "nbformat": 4,
  "nbformat_minor": 0,
  "metadata": {
    "colab": {
      "provenance": [],
      "collapsed_sections": [
        "euQY4n5hT8WS",
        "6etxFxOWUzyt",
        "1tajeIFHWBWv",
        "BjZNkZ5CWv9K"
      ],
      "authorship_tag": "ABX9TyPh/GxWTVvoc7WnaIF5kuih",
      "include_colab_link": true
    },
    "kernelspec": {
      "name": "python3",
      "display_name": "Python 3"
    },
    "language_info": {
      "name": "python"
    }
  },
  "cells": [
    {
      "cell_type": "markdown",
      "metadata": {
        "id": "view-in-github",
        "colab_type": "text"
      },
      "source": [
        "<a href=\"https://colab.research.google.com/github/AL-DN/Welcome_to_Numpy/blob/main/NumpyNotes.ipynb\" target=\"_parent\"><img src=\"https://colab.research.google.com/assets/colab-badge.svg\" alt=\"Open In Colab\"/></a>"
      ]
    },
    {
      "cell_type": "markdown",
      "source": [
        "\n",
        "**Reference:** https://www.youtube.com/watch?v=QUT1VHiLmmI\n",
        "\n",
        "Load Numpy (pip i numpy)"
      ],
      "metadata": {
        "id": "X4GnKnHOTYD8"
      }
    },
    {
      "cell_type": "code",
      "source": [
        "import numpy as np"
      ],
      "metadata": {
        "id": "DrO3mKm1TrMY"
      },
      "execution_count": null,
      "outputs": []
    },
    {
      "cell_type": "markdown",
      "source": [
        "# **Create** `numpy array` by **passing in a list**"
      ],
      "metadata": {
        "id": "euQY4n5hT8WS"
      }
    },
    {
      "cell_type": "code",
      "source": [
        "# 1D\n",
        "a = np.array([1,2,3])\n",
        "print(a)"
      ],
      "metadata": {
        "colab": {
          "base_uri": "https://localhost:8080/"
        },
        "id": "iqfmnEd_T06Y",
        "outputId": "5875ff13-722b-45a2-90d6-d6ae5c0975d7"
      },
      "execution_count": null,
      "outputs": [
        {
          "output_type": "stream",
          "name": "stdout",
          "text": [
            "[1 2 3]\n"
          ]
        }
      ]
    },
    {
      "cell_type": "code",
      "source": [
        "# 2D\n",
        "b = np.array([[9.9,8.8,7.7],[5.5,6.6,7.7]])\n",
        "print(b)"
      ],
      "metadata": {
        "colab": {
          "base_uri": "https://localhost:8080/"
        },
        "id": "_7yXzsplUSav",
        "outputId": "77fe4042-9acc-4208-bd87-1d0094a7850a"
      },
      "execution_count": null,
      "outputs": [
        {
          "output_type": "stream",
          "name": "stdout",
          "text": [
            "[[9.9 8.8 7.7]\n",
            " [5.5 6.6 7.7]]\n"
          ]
        }
      ]
    },
    {
      "cell_type": "markdown",
      "source": [
        "# You can view the dimension of NumpyArr"
      ],
      "metadata": {
        "id": "6etxFxOWUzyt"
      }
    },
    {
      "cell_type": "code",
      "source": [
        "print(\"The NumpyArr A has {} dimensions\".format(a.ndim))\n",
        "print(\"The NumpyArr B has {} dimensions\".format(b.ndim))"
      ],
      "metadata": {
        "colab": {
          "base_uri": "https://localhost:8080/"
        },
        "id": "3_tN_-XAU5hf",
        "outputId": "fad37054-ce73-44da-eabd-fc1077343492"
      },
      "execution_count": null,
      "outputs": [
        {
          "output_type": "stream",
          "name": "stdout",
          "text": [
            "The NumpyArr A has 1 dimensions\n",
            "The NumpyArr B has 2 dimensions\n"
          ]
        }
      ]
    },
    {
      "cell_type": "markdown",
      "source": [
        "# You can find the size of the array (rows,colums)"
      ],
      "metadata": {
        "id": "1tajeIFHWBWv"
      }
    },
    {
      "cell_type": "code",
      "source": [
        "# when it is 1D it will return # of elements\n",
        "a.shape"
      ],
      "metadata": {
        "colab": {
          "base_uri": "https://localhost:8080/"
        },
        "id": "9Gkj_NGBWN9-",
        "outputId": "4717f289-e316-4fe1-cc98-93ab85e6a9de"
      },
      "execution_count": null,
      "outputs": [
        {
          "output_type": "execute_result",
          "data": {
            "text/plain": [
              "(3,)"
            ]
          },
          "metadata": {},
          "execution_count": 14
        }
      ]
    },
    {
      "cell_type": "code",
      "source": [
        "b.shape"
      ],
      "metadata": {
        "colab": {
          "base_uri": "https://localhost:8080/"
        },
        "id": "CWxsn-tmV-Oq",
        "outputId": "a0308071-18f0-4dce-aa3c-3fc4cd7fae1b"
      },
      "execution_count": null,
      "outputs": [
        {
          "output_type": "execute_result",
          "data": {
            "text/plain": [
              "(2, 3)"
            ]
          },
          "metadata": {},
          "execution_count": 13
        }
      ]
    },
    {
      "cell_type": "markdown",
      "source": [
        "# You can view Data Type"
      ],
      "metadata": {
        "id": "BjZNkZ5CWv9K"
      }
    },
    {
      "cell_type": "code",
      "source": [
        "a.dtype"
      ],
      "metadata": {
        "colab": {
          "base_uri": "https://localhost:8080/"
        },
        "id": "nuVmMcFfW9tO",
        "outputId": "f6808417-a2b0-4549-eb6b-46f2f87b1ec5"
      },
      "execution_count": null,
      "outputs": [
        {
          "output_type": "execute_result",
          "data": {
            "text/plain": [
              "dtype('int64')"
            ]
          },
          "metadata": {},
          "execution_count": 17
        }
      ]
    },
    {
      "cell_type": "code",
      "source": [
        "b.dtype"
      ],
      "metadata": {
        "colab": {
          "base_uri": "https://localhost:8080/"
        },
        "id": "ViJ-SItPWoJ0",
        "outputId": "c7bf8bea-ec4e-4251-9537-97a13849421c"
      },
      "execution_count": null,
      "outputs": [
        {
          "output_type": "execute_result",
          "data": {
            "text/plain": [
              "dtype('float64')"
            ]
          },
          "metadata": {},
          "execution_count": 18
        }
      ]
    },
    {
      "cell_type": "markdown",
      "source": [
        "# We can also specify this when creating NumpyArr\n",
        "\n",
        "\n",
        "*   This is useful to save memory and decrease runtime if data size is known to be under a certain value\n",
        "\n",
        "\n",
        "\n",
        "\n"
      ],
      "metadata": {
        "id": "RosstJBWXGtD"
      }
    },
    {
      "cell_type": "code",
      "source": [
        "c = np.array([4,5,6],dtype='int16')"
      ],
      "metadata": {
        "id": "aXiZr7IIXNSe"
      },
      "execution_count": null,
      "outputs": []
    },
    {
      "cell_type": "markdown",
      "source": [
        "# We can view size of Array in multiple capactities\n",
        "\n"
      ],
      "metadata": {
        "id": "FTFWtJVIYA9Q"
      }
    },
    {
      "cell_type": "markdown",
      "source": [
        "**Returns size of each item in bytes**"
      ],
      "metadata": {
        "id": "o3SZtO6sYoZQ"
      }
    },
    {
      "cell_type": "code",
      "source": [
        "a.itemsize"
      ],
      "metadata": {
        "colab": {
          "base_uri": "https://localhost:8080/"
        },
        "id": "KaQx4mxmYFHj",
        "outputId": "f73b640a-84fd-4435-c61e-23e8ddd853cf"
      },
      "execution_count": null,
      "outputs": [
        {
          "output_type": "execute_result",
          "data": {
            "text/plain": [
              "8"
            ]
          },
          "metadata": {},
          "execution_count": 21
        }
      ]
    },
    {
      "cell_type": "code",
      "source": [
        "b.itemsize"
      ],
      "metadata": {
        "colab": {
          "base_uri": "https://localhost:8080/"
        },
        "id": "RgOJ57DRYKLI",
        "outputId": "0cd6e0d9-b74f-4b85-ba94-c14a7d081dd3"
      },
      "execution_count": null,
      "outputs": [
        {
          "output_type": "execute_result",
          "data": {
            "text/plain": [
              "8"
            ]
          },
          "metadata": {},
          "execution_count": 22
        }
      ]
    },
    {
      "cell_type": "code",
      "source": [
        "c.itemsize"
      ],
      "metadata": {
        "colab": {
          "base_uri": "https://localhost:8080/"
        },
        "id": "vxQJDxyDYOyD",
        "outputId": "d347a53b-e265-4d61-d83f-18b5916fa891"
      },
      "execution_count": null,
      "outputs": [
        {
          "output_type": "execute_result",
          "data": {
            "text/plain": [
              "2"
            ]
          },
          "metadata": {},
          "execution_count": 23
        }
      ]
    },
    {
      "cell_type": "markdown",
      "source": [
        "**Returns total number of items in Array**"
      ],
      "metadata": {
        "id": "oBVYlGt2ZAuq"
      }
    },
    {
      "cell_type": "code",
      "source": [
        "a.size"
      ],
      "metadata": {
        "colab": {
          "base_uri": "https://localhost:8080/"
        },
        "id": "asFNYTs9ZHWp",
        "outputId": "3b1afbd3-153d-4b63-9688-0311bde074b0"
      },
      "execution_count": null,
      "outputs": [
        {
          "output_type": "execute_result",
          "data": {
            "text/plain": [
              "3"
            ]
          },
          "metadata": {},
          "execution_count": 25
        }
      ]
    },
    {
      "cell_type": "code",
      "source": [
        "b.size"
      ],
      "metadata": {
        "colab": {
          "base_uri": "https://localhost:8080/"
        },
        "id": "ciNCuHoWZLM7",
        "outputId": "fedc2e5d-ed0e-484e-adf7-c0ffb05bc6b2"
      },
      "execution_count": null,
      "outputs": [
        {
          "output_type": "execute_result",
          "data": {
            "text/plain": [
              "6"
            ]
          },
          "metadata": {},
          "execution_count": 26
        }
      ]
    },
    {
      "cell_type": "code",
      "source": [
        "c.size"
      ],
      "metadata": {
        "colab": {
          "base_uri": "https://localhost:8080/"
        },
        "id": "3gwBT7A_ZMyl",
        "outputId": "4188561e-7e36-4d29-f42b-0e9ffc23ec77"
      },
      "execution_count": null,
      "outputs": [
        {
          "output_type": "execute_result",
          "data": {
            "text/plain": [
              "3"
            ]
          },
          "metadata": {},
          "execution_count": 27
        }
      ]
    },
    {
      "cell_type": "markdown",
      "source": [
        "Size of Entire Array in Bytes\n",
        "(itemsize * size)"
      ],
      "metadata": {
        "id": "6vrs0TZhZRsr"
      }
    },
    {
      "cell_type": "code",
      "source": [
        "a.nbytes"
      ],
      "metadata": {
        "colab": {
          "base_uri": "https://localhost:8080/"
        },
        "id": "cPb7HNv0ZTqV",
        "outputId": "b0d5540a-b210-4a67-8ec0-e31708560ae8"
      },
      "execution_count": null,
      "outputs": [
        {
          "output_type": "execute_result",
          "data": {
            "text/plain": [
              "24"
            ]
          },
          "metadata": {},
          "execution_count": 28
        }
      ]
    },
    {
      "cell_type": "markdown",
      "source": [
        "# Accessing/Changing specific elements, rows, colums, etc"
      ],
      "metadata": {
        "id": "l_vPTHC_Zypr"
      }
    },
    {
      "cell_type": "code",
      "source": [
        "test = np.array([[1,2,3,4,5,6,7],\n",
        "                 [8,9,10,11,12,13,14]])"
      ],
      "metadata": {
        "id": "ia9LWxHOZ5bS"
      },
      "execution_count": null,
      "outputs": []
    },
    {
      "cell_type": "markdown",
      "source": [
        "**Get specific element**\n",
        "by using numpy_array[row,column]\n",
        "* negative indexing works too"
      ],
      "metadata": {
        "id": "ZlNppRdcawJD"
      }
    },
    {
      "cell_type": "code",
      "source": [
        "test[1,5]"
      ],
      "metadata": {
        "colab": {
          "base_uri": "https://localhost:8080/"
        },
        "id": "r8r_7iVPau-M",
        "outputId": "63ab4e7c-2a6b-4670-f7ee-6895b49835d9"
      },
      "execution_count": null,
      "outputs": [
        {
          "output_type": "execute_result",
          "data": {
            "text/plain": [
              "13"
            ]
          },
          "metadata": {},
          "execution_count": 35
        }
      ]
    },
    {
      "cell_type": "markdown",
      "source": [
        "**Get a specific row/column**\n",
        "* slice tool grabs all row or column values"
      ],
      "metadata": {
        "id": "N-h7MxmWbNbF"
      }
    },
    {
      "cell_type": "code",
      "source": [
        "test[0,:]"
      ],
      "metadata": {
        "colab": {
          "base_uri": "https://localhost:8080/"
        },
        "id": "jtTvjinSbPaQ",
        "outputId": "1d2cbc9e-c148-41ab-ea60-3e49491714d4"
      },
      "execution_count": null,
      "outputs": [
        {
          "output_type": "execute_result",
          "data": {
            "text/plain": [
              "array([1, 2, 3, 4, 5, 6, 7])"
            ]
          },
          "metadata": {},
          "execution_count": 37
        }
      ]
    },
    {
      "cell_type": "code",
      "source": [
        "test[:,2]"
      ],
      "metadata": {
        "colab": {
          "base_uri": "https://localhost:8080/"
        },
        "id": "m_4BjoefbqH_",
        "outputId": "87a872fc-6ed3-4a28-8056-f343266b234c"
      },
      "execution_count": null,
      "outputs": [
        {
          "output_type": "execute_result",
          "data": {
            "text/plain": [
              "array([ 3, 10])"
            ]
          },
          "metadata": {},
          "execution_count": 38
        }
      ]
    },
    {
      "cell_type": "markdown",
      "source": [
        "**Getting more fancy**\n",
        "[start:end:stepsize]"
      ],
      "metadata": {
        "id": "QuszjTXdcOtS"
      }
    },
    {
      "cell_type": "code",
      "source": [
        "test[0, 0:test.size:2]"
      ],
      "metadata": {
        "colab": {
          "base_uri": "https://localhost:8080/"
        },
        "id": "Yp4O9bLrcRzr",
        "outputId": "c86aedf5-1b5c-4b18-d3e9-d6b616e96a81"
      },
      "execution_count": null,
      "outputs": [
        {
          "output_type": "execute_result",
          "data": {
            "text/plain": [
              "array([1, 3, 5, 7])"
            ]
          },
          "metadata": {},
          "execution_count": 41
        }
      ]
    },
    {
      "cell_type": "markdown",
      "source": [
        "You can **change** values by simply accessing their 'coordinate'"
      ],
      "metadata": {
        "id": "AUswPS_Oc-to"
      }
    },
    {
      "cell_type": "code",
      "source": [
        "test[0,2] = 5\n",
        "# Take another look at even indexs on row 0\n",
        "test[0, 0:test.size:2]"
      ],
      "metadata": {
        "colab": {
          "base_uri": "https://localhost:8080/"
        },
        "id": "2SS3YrTVdHnw",
        "outputId": "62bb85f5-4460-4bc1-e0be-d56e99351682"
      },
      "execution_count": null,
      "outputs": [
        {
          "output_type": "execute_result",
          "data": {
            "text/plain": [
              "array([1, 5, 5, 7])"
            ]
          },
          "metadata": {},
          "execution_count": 44
        }
      ]
    },
    {
      "cell_type": "markdown",
      "source": [
        "**You can also use slice to replace all values on r/c**"
      ],
      "metadata": {
        "id": "1AHLma2Ud02d"
      }
    },
    {
      "cell_type": "code",
      "source": [
        "test[0,:] = 5\n",
        "# Take another look at even indexs on row 0\n",
        "test[0, 0:test.size:2]"
      ],
      "metadata": {
        "colab": {
          "base_uri": "https://localhost:8080/"
        },
        "id": "54Z4fECedvVg",
        "outputId": "17acebee-286e-464e-bd56-45db3c3bbe0f"
      },
      "execution_count": null,
      "outputs": [
        {
          "output_type": "execute_result",
          "data": {
            "text/plain": [
              "array([5, 5, 5, 5])"
            ]
          },
          "metadata": {},
          "execution_count": 45
        }
      ]
    },
    {
      "cell_type": "code",
      "source": [],
      "metadata": {
        "id": "vDZq1BE5eAdh"
      },
      "execution_count": null,
      "outputs": []
    }
  ]
}